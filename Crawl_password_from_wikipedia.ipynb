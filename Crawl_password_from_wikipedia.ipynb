{
  "nbformat": 4,
  "nbformat_minor": 0,
  "metadata": {
    "colab": {
      "provenance": []
    },
    "kernelspec": {
      "name": "python3",
      "display_name": "Python 3"
    },
    "language_info": {
      "name": "python"
    }
  },
  "cells": [
    {
      "cell_type": "code",
      "source": [
        "# install beautifulsoup4\n",
        "!pip install beautifulsoup4"
      ],
      "metadata": {
        "id": "naaUu1Jvvd6A",
        "colab": {
          "base_uri": "https://localhost:8080/"
        },
        "outputId": "5b641969-66e8-4ed0-e786-c27fcc604f49"
      },
      "execution_count": 106,
      "outputs": [
        {
          "output_type": "stream",
          "name": "stdout",
          "text": [
            "Requirement already satisfied: beautifulsoup4 in /usr/local/lib/python3.11/dist-packages (4.13.3)\n",
            "Requirement already satisfied: soupsieve>1.2 in /usr/local/lib/python3.11/dist-packages (from beautifulsoup4) (2.6)\n",
            "Requirement already satisfied: typing-extensions>=4.0.0 in /usr/local/lib/python3.11/dist-packages (from beautifulsoup4) (4.12.2)\n"
          ]
        }
      ]
    },
    {
      "cell_type": "code",
      "source": [
        "# Connect with google drive\n",
        "from google.colab import drive\n",
        "drive.mount('/content/drive')"
      ],
      "metadata": {
        "colab": {
          "base_uri": "https://localhost:8080/"
        },
        "id": "2dodlyiR8drQ",
        "outputId": "00a8ff74-6c9e-43ca-a4c9-39954c7f6f7a"
      },
      "execution_count": 107,
      "outputs": [
        {
          "output_type": "stream",
          "name": "stdout",
          "text": [
            "Drive already mounted at /content/drive; to attempt to forcibly remount, call drive.mount(\"/content/drive\", force_remount=True).\n"
          ]
        }
      ]
    },
    {
      "cell_type": "code",
      "execution_count": 108,
      "metadata": {
        "id": "WzvuLjvdYVa1"
      },
      "outputs": [],
      "source": [
        "# import libraries\n",
        "from bs4 import BeautifulSoup\n",
        "import requests\n",
        "import pandas as pd"
      ]
    },
    {
      "cell_type": "code",
      "source": [
        "# Store website in variable\n",
        "website = \"https://en.wikipedia.org/wiki/Wikipedia:10,000_most_common_passwords\"\n",
        "\n",
        "# Get requests\n",
        "response  = requests.get(website)"
      ],
      "metadata": {
        "id": "KA0gkuQZvYkD"
      },
      "execution_count": 109,
      "outputs": []
    },
    {
      "cell_type": "code",
      "source": [
        "#Status code\n",
        "response.status_code"
      ],
      "metadata": {
        "colab": {
          "base_uri": "https://localhost:8080/"
        },
        "id": "gy8QBkmDwrV9",
        "outputId": "76123e94-0e81-4763-eb9b-4084b6d3a9d7"
      },
      "execution_count": 110,
      "outputs": [
        {
          "output_type": "execute_result",
          "data": {
            "text/plain": [
              "200"
            ]
          },
          "metadata": {},
          "execution_count": 110
        }
      ]
    },
    {
      "cell_type": "code",
      "source": [
        "# Soup Object\n",
        "soup = BeautifulSoup(response.content, 'html.parser')"
      ],
      "metadata": {
        "id": "JEtO58kQwult"
      },
      "execution_count": 111,
      "outputs": []
    },
    {
      "cell_type": "code",
      "source": [
        "# Target password data\n",
        "password_lists = soup.find_all('div', {\"class\": \"div-col\"})"
      ],
      "metadata": {
        "id": "rRsXwqqiw0Hf"
      },
      "execution_count": 112,
      "outputs": []
    },
    {
      "cell_type": "code",
      "source": [
        "# Get top 100 most common passwords\n",
        "top_100_common_passwords = []\n",
        "for password in password_lists[0].find_all('li'):\n",
        "  top_100_common_passwords.append(password.get_text(strip = True))"
      ],
      "metadata": {
        "id": "nafdBjQE0mx-"
      },
      "execution_count": 113,
      "outputs": []
    },
    {
      "cell_type": "code",
      "source": [
        "# Get top 101 to 10000 most common passords\n",
        "top_101_to_10000_common_passwords = []\n",
        "for password in password_lists[1].find_all('li'):\n",
        "  top_101_to_10000_common_passwords.append(password.get_text(strip = True))"
      ],
      "metadata": {
        "id": "sQ2awyWB0Lh2"
      },
      "execution_count": 114,
      "outputs": []
    },
    {
      "cell_type": "code",
      "source": [
        "# Remove all none data\n",
        "top_100_common_passwords = [password for password in top_100_common_passwords if password]\n",
        "top_101_to_10000_common_passwords = [password for password in top_101_to_10000_common_passwords if password]"
      ],
      "metadata": {
        "id": "iT8-wVcr6q0u"
      },
      "execution_count": 115,
      "outputs": []
    },
    {
      "cell_type": "code",
      "source": [
        "# Create a ranks list\n",
        "ranks = []\n",
        "for rank in range(0, 10000, 1):\n",
        "  ranks.append(rank + 1)"
      ],
      "metadata": {
        "id": "65pTWKQG2T9b"
      },
      "execution_count": 116,
      "outputs": []
    },
    {
      "cell_type": "code",
      "source": [
        "# Combined two list into one\n",
        "top_10000_common_passwords = top_100_common_passwords + top_101_to_10000_common_passwords"
      ],
      "metadata": {
        "id": "mNh6VWMV3D_C"
      },
      "execution_count": 117,
      "outputs": []
    },
    {
      "cell_type": "code",
      "source": [
        "# check the length of the lists\n",
        "len(top_10000_common_passwords)"
      ],
      "metadata": {
        "colab": {
          "base_uri": "https://localhost:8080/"
        },
        "id": "Fx_luLV23rrO",
        "outputId": "7843ada2-aeea-4755-b009-bb66ddbf89b6"
      },
      "execution_count": 118,
      "outputs": [
        {
          "output_type": "execute_result",
          "data": {
            "text/plain": [
              "10000"
            ]
          },
          "metadata": {},
          "execution_count": 118
        }
      ]
    },
    {
      "cell_type": "code",
      "source": [
        "# Create a DataFrame\n",
        "top_10000_common_passwords_df = pd.DataFrame({\"common_password\": top_10000_common_passwords, \"rank\": ranks})"
      ],
      "metadata": {
        "id": "UE7lHSsu3aHt"
      },
      "execution_count": 119,
      "outputs": []
    },
    {
      "cell_type": "code",
      "source": [
        "#Convert the dataframe into csv\n",
        "top_10000_common_passwords_df.to_csv(\"top_10000_common_passwords.csv\", index = False)"
      ],
      "metadata": {
        "id": "3FC7xHp_73Tp"
      },
      "execution_count": 120,
      "outputs": []
    }
  ]
}